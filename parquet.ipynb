{
 "cells": [
  {
   "cell_type": "code",
   "execution_count": 2,
   "metadata": {},
   "outputs": [],
   "source": [
    "import pandas as pd\n",
    "import dask.dataframe as dd"
   ]
  },
  {
   "cell_type": "code",
   "execution_count": 3,
   "metadata": {},
   "outputs": [],
   "source": [
    "csv_file_path = \"data/transactions_dataset.csv\"\n",
    "parquet_file_path = \"data/transactions_dataset.parquet\"\n",
    "reduced_parquet_file_path = \"data/transactions_dataset_reduced.parquet\"\n",
    "\n",
    "# Read CSV file in chunks and concatenate into a single DataFrame\n",
    "chunks = pd.read_csv(csv_file_path, sep=\";\", chunksize=10000)\n",
    "concatenated_df = pd.concat(chunks, ignore_index=True)"
   ]
  },
  {
   "cell_type": "code",
   "execution_count": 4,
   "metadata": {},
   "outputs": [],
   "source": [
    "# Save DataFrame to Parquet format\n",
    "concatenated_df.to_parquet(parquet_file_path)"
   ]
  },
  {
   "cell_type": "code",
   "execution_count": 5,
   "metadata": {},
   "outputs": [
    {
     "name": "stdout",
     "output_type": "stream",
     "text": [
      "<class 'pandas.core.frame.DataFrame'>\n",
      "RangeIndex: 63319315 entries, 0 to 63319314\n",
      "Data columns (total 8 columns):\n",
      " #   Column         Dtype  \n",
      "---  ------         -----  \n",
      " 0   date_order     object \n",
      " 1   date_invoice   object \n",
      " 2   product_id     int64  \n",
      " 3   client_id      int64  \n",
      " 4   sales_net      float64\n",
      " 5   quantity       int64  \n",
      " 6   order_channel  object \n",
      " 7   branch_id      int64  \n",
      "dtypes: float64(1), int64(4), object(3)\n",
      "memory usage: 3.8+ GB\n"
     ]
    }
   ],
   "source": [
    "concatenated_df.info()"
   ]
  },
  {
   "cell_type": "code",
   "execution_count": 6,
   "metadata": {},
   "outputs": [],
   "source": [
    "# Get unique client_id values\n",
    "unique_clients = concatenated_df['client_id'].unique()"
   ]
  },
  {
   "cell_type": "code",
   "execution_count": 7,
   "metadata": {},
   "outputs": [],
   "source": [
    "# Select a random 10% sample of client_id values\n",
    "sample_size = int(0.1 * len(unique_clients))\n",
    "selected_clients = pd.Series(unique_clients).sample(n=sample_size, random_state=42)"
   ]
  },
  {
   "cell_type": "code",
   "execution_count": 8,
   "metadata": {},
   "outputs": [],
   "source": [
    "# Filter concatenated_df to keep only the rows corresponding to selected clients\n",
    "reduced_df = concatenated_df[concatenated_df['client_id'].isin(selected_clients)]\n",
    "\n",
    "# Now reduced_df contains only the data for the randomly selected 10% of clients"
   ]
  },
  {
   "cell_type": "code",
   "execution_count": 11,
   "metadata": {},
   "outputs": [],
   "source": [
    "# Save DataFrame to Parquet format\n",
    "concatenated_df.to_parquet(reduced_parquet_file_path)"
   ]
  }
 ],
 "metadata": {
  "kernelspec": {
   "display_name": "base",
   "language": "python",
   "name": "python3"
  },
  "language_info": {
   "codemirror_mode": {
    "name": "ipython",
    "version": 3
   },
   "file_extension": ".py",
   "mimetype": "text/x-python",
   "name": "python",
   "nbconvert_exporter": "python",
   "pygments_lexer": "ipython3",
   "version": "3.11.5"
  }
 },
 "nbformat": 4,
 "nbformat_minor": 2
}
