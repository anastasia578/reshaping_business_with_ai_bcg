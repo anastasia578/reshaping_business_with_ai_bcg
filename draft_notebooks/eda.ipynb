{
 "cells": [
  {
   "cell_type": "code",
   "execution_count": 1,
   "metadata": {},
   "outputs": [],
   "source": [
    "import pandas as pd\n",
    "import matplotlib.pyplot as plt\n",
    "import importlib\n",
    "\n",
    "import load_data"
   ]
  },
  {
   "cell_type": "code",
   "execution_count": 2,
   "metadata": {},
   "outputs": [
    {
     "data": {
      "text/plain": [
       "<module 'load_data' from '/Users/nastia/school/master/hec/reshaping_business_with_ai_bcg/reshaping_business_with_ai_bcg/load_data.py'>"
      ]
     },
     "execution_count": 2,
     "metadata": {},
     "output_type": "execute_result"
    }
   ],
   "source": [
    "importlib.reload(load_data)"
   ]
  },
  {
   "cell_type": "code",
   "execution_count": 3,
   "metadata": {},
   "outputs": [],
   "source": [
    "df = load_data.read_and_process_parquet()"
   ]
  },
  {
   "cell_type": "code",
   "execution_count": 4,
   "metadata": {},
   "outputs": [
    {
     "name": "stdout",
     "output_type": "stream",
     "text": [
      "<class 'pandas.core.frame.DataFrame'>\n",
      "RangeIndex: 63319315 entries, 0 to 63319314\n",
      "Data columns (total 8 columns):\n",
      " #   Column         Dtype         \n",
      "---  ------         -----         \n",
      " 0   date_order     datetime64[ns]\n",
      " 1   date_invoice   datetime64[ns]\n",
      " 2   product_id     int64         \n",
      " 3   client_id      int64         \n",
      " 4   sales_net      float64       \n",
      " 5   quantity       int64         \n",
      " 6   order_channel  object        \n",
      " 7   branch_id      int64         \n",
      "dtypes: datetime64[ns](2), float64(1), int64(4), object(1)\n",
      "memory usage: 3.8+ GB\n"
     ]
    }
   ],
   "source": [
    "df.info()"
   ]
  },
  {
   "cell_type": "code",
   "execution_count": 5,
   "metadata": {},
   "outputs": [
    {
     "data": {
      "text/html": [
       "<div>\n",
       "<style scoped>\n",
       "    .dataframe tbody tr th:only-of-type {\n",
       "        vertical-align: middle;\n",
       "    }\n",
       "\n",
       "    .dataframe tbody tr th {\n",
       "        vertical-align: top;\n",
       "    }\n",
       "\n",
       "    .dataframe thead th {\n",
       "        text-align: right;\n",
       "    }\n",
       "</style>\n",
       "<table border=\"1\" class=\"dataframe\">\n",
       "  <thead>\n",
       "    <tr style=\"text-align: right;\">\n",
       "      <th></th>\n",
       "      <th>date_order</th>\n",
       "      <th>date_invoice</th>\n",
       "      <th>product_id</th>\n",
       "      <th>client_id</th>\n",
       "      <th>sales_net</th>\n",
       "      <th>quantity</th>\n",
       "      <th>order_channel</th>\n",
       "      <th>branch_id</th>\n",
       "    </tr>\n",
       "  </thead>\n",
       "  <tbody>\n",
       "    <tr>\n",
       "      <th>0</th>\n",
       "      <td>2017-09-25</td>\n",
       "      <td>2017-09-25</td>\n",
       "      <td>2376333</td>\n",
       "      <td>188502</td>\n",
       "      <td>155.44320</td>\n",
       "      <td>3</td>\n",
       "      <td>online</td>\n",
       "      <td>2732</td>\n",
       "    </tr>\n",
       "    <tr>\n",
       "      <th>1</th>\n",
       "      <td>2017-09-25</td>\n",
       "      <td>2017-09-25</td>\n",
       "      <td>2520527</td>\n",
       "      <td>835089</td>\n",
       "      <td>16.39440</td>\n",
       "      <td>3</td>\n",
       "      <td>at the store</td>\n",
       "      <td>10279</td>\n",
       "    </tr>\n",
       "    <tr>\n",
       "      <th>2</th>\n",
       "      <td>2017-09-25</td>\n",
       "      <td>2017-09-25</td>\n",
       "      <td>2536756</td>\n",
       "      <td>1977896</td>\n",
       "      <td>365.76624</td>\n",
       "      <td>21</td>\n",
       "      <td>online</td>\n",
       "      <td>6184</td>\n",
       "    </tr>\n",
       "    <tr>\n",
       "      <th>3</th>\n",
       "      <td>2017-09-25</td>\n",
       "      <td>2017-09-25</td>\n",
       "      <td>3028673</td>\n",
       "      <td>598816</td>\n",
       "      <td>8.59878</td>\n",
       "      <td>201</td>\n",
       "      <td>at the store</td>\n",
       "      <td>4200</td>\n",
       "    </tr>\n",
       "    <tr>\n",
       "      <th>4</th>\n",
       "      <td>2017-09-25</td>\n",
       "      <td>2017-09-25</td>\n",
       "      <td>203377</td>\n",
       "      <td>2086861</td>\n",
       "      <td>1093.37400</td>\n",
       "      <td>3</td>\n",
       "      <td>by phone</td>\n",
       "      <td>7051</td>\n",
       "    </tr>\n",
       "  </tbody>\n",
       "</table>\n",
       "</div>"
      ],
      "text/plain": [
       "  date_order date_invoice  product_id  client_id   sales_net  quantity  \\\n",
       "0 2017-09-25   2017-09-25     2376333     188502   155.44320         3   \n",
       "1 2017-09-25   2017-09-25     2520527     835089    16.39440         3   \n",
       "2 2017-09-25   2017-09-25     2536756    1977896   365.76624        21   \n",
       "3 2017-09-25   2017-09-25     3028673     598816     8.59878       201   \n",
       "4 2017-09-25   2017-09-25      203377    2086861  1093.37400         3   \n",
       "\n",
       "  order_channel  branch_id  \n",
       "0        online       2732  \n",
       "1  at the store      10279  \n",
       "2        online       6184  \n",
       "3  at the store       4200  \n",
       "4      by phone       7051  "
      ]
     },
     "execution_count": 5,
     "metadata": {},
     "output_type": "execute_result"
    }
   ],
   "source": [
    "df.head()"
   ]
  },
  {
   "cell_type": "code",
   "execution_count": 9,
   "metadata": {},
   "outputs": [
    {
     "data": {
      "text/html": [
       "<div>\n",
       "<style scoped>\n",
       "    .dataframe tbody tr th:only-of-type {\n",
       "        vertical-align: middle;\n",
       "    }\n",
       "\n",
       "    .dataframe tbody tr th {\n",
       "        vertical-align: top;\n",
       "    }\n",
       "\n",
       "    .dataframe thead th {\n",
       "        text-align: right;\n",
       "    }\n",
       "</style>\n",
       "<table border=\"1\" class=\"dataframe\">\n",
       "  <thead>\n",
       "    <tr style=\"text-align: right;\">\n",
       "      <th></th>\n",
       "      <th>date_order</th>\n",
       "      <th>client_id</th>\n",
       "      <th>sales_net</th>\n",
       "    </tr>\n",
       "  </thead>\n",
       "  <tbody>\n",
       "    <tr>\n",
       "      <th>0</th>\n",
       "      <td>2017-09-22</td>\n",
       "      <td>403403</td>\n",
       "      <td>665.242800</td>\n",
       "    </tr>\n",
       "    <tr>\n",
       "      <th>1</th>\n",
       "      <td>2017-09-22</td>\n",
       "      <td>585799</td>\n",
       "      <td>654.616800</td>\n",
       "    </tr>\n",
       "    <tr>\n",
       "      <th>2</th>\n",
       "      <td>2017-09-22</td>\n",
       "      <td>591886</td>\n",
       "      <td>0.000000</td>\n",
       "    </tr>\n",
       "    <tr>\n",
       "      <th>3</th>\n",
       "      <td>2017-09-22</td>\n",
       "      <td>688261</td>\n",
       "      <td>2443.568280</td>\n",
       "    </tr>\n",
       "    <tr>\n",
       "      <th>4</th>\n",
       "      <td>2017-09-22</td>\n",
       "      <td>791423</td>\n",
       "      <td>331.034400</td>\n",
       "    </tr>\n",
       "    <tr>\n",
       "      <th>...</th>\n",
       "      <td>...</td>\n",
       "      <td>...</td>\n",
       "      <td>...</td>\n",
       "    </tr>\n",
       "    <tr>\n",
       "      <th>7955284</th>\n",
       "      <td>2019-09-22</td>\n",
       "      <td>2039787</td>\n",
       "      <td>151.982160</td>\n",
       "    </tr>\n",
       "    <tr>\n",
       "      <th>7955285</th>\n",
       "      <td>2019-09-22</td>\n",
       "      <td>2058530</td>\n",
       "      <td>1403.121571</td>\n",
       "    </tr>\n",
       "    <tr>\n",
       "      <th>7955286</th>\n",
       "      <td>2019-09-22</td>\n",
       "      <td>2076261</td>\n",
       "      <td>166.037000</td>\n",
       "    </tr>\n",
       "    <tr>\n",
       "      <th>7955287</th>\n",
       "      <td>2019-09-22</td>\n",
       "      <td>2153179</td>\n",
       "      <td>1419.274800</td>\n",
       "    </tr>\n",
       "    <tr>\n",
       "      <th>7955288</th>\n",
       "      <td>2019-09-22</td>\n",
       "      <td>2265063</td>\n",
       "      <td>2265.400947</td>\n",
       "    </tr>\n",
       "  </tbody>\n",
       "</table>\n",
       "<p>7955289 rows × 3 columns</p>\n",
       "</div>"
      ],
      "text/plain": [
       "        date_order  client_id    sales_net\n",
       "0       2017-09-22     403403   665.242800\n",
       "1       2017-09-22     585799   654.616800\n",
       "2       2017-09-22     591886     0.000000\n",
       "3       2017-09-22     688261  2443.568280\n",
       "4       2017-09-22     791423   331.034400\n",
       "...            ...        ...          ...\n",
       "7955284 2019-09-22    2039787   151.982160\n",
       "7955285 2019-09-22    2058530  1403.121571\n",
       "7955286 2019-09-22    2076261   166.037000\n",
       "7955287 2019-09-22    2153179  1419.274800\n",
       "7955288 2019-09-22    2265063  2265.400947\n",
       "\n",
       "[7955289 rows x 3 columns]"
      ]
     },
     "execution_count": 9,
     "metadata": {},
     "output_type": "execute_result"
    }
   ],
   "source": [
    "# Group the data by 'date_order' and 'client_id', and calculate the sum of sales for each group\n",
    "sales_sum_df = df.groupby(['date_order', 'client_id'])['sales_net'].sum().reset_index()\n",
    "sales_sum_df"
   ]
  },
  {
   "cell_type": "code",
   "execution_count": null,
   "metadata": {},
   "outputs": [],
   "source": []
  },
  {
   "cell_type": "code",
   "execution_count": null,
   "metadata": {},
   "outputs": [],
   "source": [
    "# par jour par client la somme des sales\n",
    "# groupby day/client and sum sales\n",
    "# try to predict this"
   ]
  },
  {
   "cell_type": "code",
   "execution_count": null,
   "metadata": {},
   "outputs": [],
   "source": [
    "# Drop duplicate order dates while keeping the first occurrence\n",
    "unique_dates_df = df_client.drop_duplicates(subset='date_order')\n",
    "\n",
    "# Calculate the total number of unique order dates\n",
    "total_unique_dates = len(unique_dates_df)\n",
    "\n",
    "# Calculate the total number of days between the first and last order date\n",
    "total_days = (unique_dates_df['date_order'].max() - unique_dates_df['date_order'].min()).days\n",
    "\n",
    "# Calculate the average frequency of order dates\n",
    "average_frequency = total_unique_dates / total_days"
   ]
  },
  {
   "cell_type": "code",
   "execution_count": null,
   "metadata": {},
   "outputs": [],
   "source": [
    "average_frequency"
   ]
  },
  {
   "cell_type": "code",
   "execution_count": null,
   "metadata": {},
   "outputs": [],
   "source": [
    "# Drop duplicate order dates while keeping the first occurrence for each client\n",
    "unique_dates_df = df.drop_duplicates(subset=['client_id', 'date_order'])\n",
    "\n",
    "# Calculate the total number of unique order dates for each client\n",
    "client_order_count = unique_dates_df.groupby('client_id')['date_order'].count()\n",
    "\n",
    "# Calculate the total number of days between the first and last order date for each client\n",
    "client_order_range = unique_dates_df.groupby('client_id')['date_order'].apply(lambda x: (x.max() - x.min()).days)\n",
    "\n",
    "# Calculate the order frequency for each client\n",
    "order_frequency = client_order_count / client_order_range\n",
    "\n",
    "# Create a DataFrame with 'client_id' and 'order_frequency'\n",
    "order_frequency_df = pd.DataFrame({'client_id': order_frequency.index, 'order_frequency': order_frequency.values})"
   ]
  },
  {
   "cell_type": "code",
   "execution_count": null,
   "metadata": {},
   "outputs": [],
   "source": [
    "num_inf = (order_frequency_df['order_frequency'] == float('inf')).sum()\n",
    "\n",
    "print(\"Number of 'inf' values:\", num_inf)"
   ]
  },
  {
   "cell_type": "code",
   "execution_count": null,
   "metadata": {},
   "outputs": [],
   "source": [
    "21081 / 170588"
   ]
  },
  {
   "cell_type": "code",
   "execution_count": null,
   "metadata": {},
   "outputs": [],
   "source": [
    "order_frequency_df"
   ]
  },
  {
   "cell_type": "code",
   "execution_count": null,
   "metadata": {},
   "outputs": [],
   "source": [
    "# fraction of negative values for sales net\n",
    "(df.sales_net < 0).sum() / len(df.sales_net)"
   ]
  },
  {
   "cell_type": "code",
   "execution_count": null,
   "metadata": {},
   "outputs": [],
   "source": [
    "df_client = df[df.client_id == 188502]"
   ]
  },
  {
   "cell_type": "code",
   "execution_count": null,
   "metadata": {},
   "outputs": [],
   "source": [
    "len(df_client.product_id.unique())\n",
    "# this client purchases 200 unique products"
   ]
  },
  {
   "cell_type": "code",
   "execution_count": null,
   "metadata": {},
   "outputs": [],
   "source": [
    "\"\"\"\n",
    "client_id\n",
    "- sum_sales\n",
    "- count_orders\n",
    "- freq_orders\n",
    "- nb_diff_products\n",
    "- nb_branch\n",
    "- last_time_purchased\n",
    "Define Y (Churn)\n",
    "\"\"\""
   ]
  },
  {
   "cell_type": "code",
   "execution_count": null,
   "metadata": {},
   "outputs": [],
   "source": [
    "# sum sales\n",
    "df_client.sales_net.sum()"
   ]
  },
  {
   "cell_type": "code",
   "execution_count": null,
   "metadata": {},
   "outputs": [],
   "source": [
    "df_client.head()"
   ]
  },
  {
   "cell_type": "code",
   "execution_count": null,
   "metadata": {},
   "outputs": [],
   "source": [
    "# count orders\n",
    "len(df_client)"
   ]
  },
  {
   "cell_type": "code",
   "execution_count": null,
   "metadata": {},
   "outputs": [],
   "source": [
    "# compute diff\n",
    "df_client['order_diff'] = df_client.groupby('client_id')['date_order'].diff().dt.days\n",
    "# Compute the average frequency and standard deviation of the frequency of orders for each client\n",
    "frequency_stats = df_client.groupby('client_id')['order_diff'].agg(['mean', 'std'])\n",
    "\n",
    "frequency_stats = df_client.groupby('client_id').agg(\n",
    "    avg_frequency=('order_diff', 'mean'),\n",
    "    std_frequency=('order_diff', 'std'),\n",
    "    max_date_order=('date_order', 'max'),\n",
    "    sum_sales=('sales_net', 'sum'),\n",
    "    avg_sales = ('sales_net', 'mean'),\n",
    "    count_sales=('sales_net', 'count'),\n",
    "    unique_product=('product_id', lambda x: len(x.unique())),\n",
    "    unique_branch=('branch_id', lambda x: len(x.unique())),\n",
    ")\n",
    "max_date = max(df['date_order'])\n",
    "frequency_stats['date_diff_max'] = (frequency_stats['max_date_order'] - max_date).dt.days"
   ]
  },
  {
   "cell_type": "code",
   "execution_count": null,
   "metadata": {},
   "outputs": [],
   "source": [
    "frequency_stats"
   ]
  },
  {
   "cell_type": "code",
   "execution_count": null,
   "metadata": {},
   "outputs": [],
   "source": [
    "df_client.date_order"
   ]
  },
  {
   "cell_type": "code",
   "execution_count": null,
   "metadata": {},
   "outputs": [],
   "source": [
    "average_frequency"
   ]
  },
  {
   "cell_type": "code",
   "execution_count": null,
   "metadata": {},
   "outputs": [],
   "source": [
    "std_dev_frequency"
   ]
  },
  {
   "cell_type": "code",
   "execution_count": null,
   "metadata": {},
   "outputs": [],
   "source": [
    "max_date = max(df['date_order'])"
   ]
  },
  {
   "cell_type": "code",
   "execution_count": null,
   "metadata": {},
   "outputs": [],
   "source": [
    "df_client.date_order"
   ]
  },
  {
   "cell_type": "code",
   "execution_count": null,
   "metadata": {},
   "outputs": [],
   "source": [
    "max_date"
   ]
  },
  {
   "cell_type": "code",
   "execution_count": null,
   "metadata": {},
   "outputs": [],
   "source": [
    "import pandas as pd\n",
    "import matplotlib.pyplot as plt\n",
    "\n",
    "# Assuming df contains your DataFrame with the sample dataset\n",
    "\n",
    "# Clean the data by removing negative values in the sales_net column\n",
    "cleaned_df = df_client.copy()\n",
    "# Convert the date_order column to datetime if it's not already in datetime format\n",
    "cleaned_df['date_order'] = pd.to_datetime(cleaned_df['date_order'])\n",
    "\n",
    "# Extract the week number from the date_order column\n",
    "cleaned_df['week_number'] = cleaned_df['date_order'].dt.isocalendar().week\n",
    "\n",
    "# Group by week_number and calculate the average sales_net for each week\n",
    "average_sales_by_week = cleaned_df.groupby('week_number')['sales_net'].mean()\n",
    "\n",
    "# Plot the average sales_net by week\n",
    "plt.figure(figsize=(10, 6))\n",
    "average_sales_by_week.plot(marker='o', linestyle='-')\n",
    "plt.title('Average Sales by Week')\n",
    "plt.xlabel('Week Number')\n",
    "plt.ylabel('Average Sales Net')\n",
    "plt.grid(True)\n",
    "plt.show()"
   ]
  },
  {
   "cell_type": "code",
   "execution_count": null,
   "metadata": {},
   "outputs": [],
   "source": []
  }
 ],
 "metadata": {
  "kernelspec": {
   "display_name": "base",
   "language": "python",
   "name": "python3"
  },
  "language_info": {
   "codemirror_mode": {
    "name": "ipython",
    "version": 3
   },
   "file_extension": ".py",
   "mimetype": "text/x-python",
   "name": "python",
   "nbconvert_exporter": "python",
   "pygments_lexer": "ipython3",
   "version": "3.11.5"
  }
 },
 "nbformat": 4,
 "nbformat_minor": 2
}
