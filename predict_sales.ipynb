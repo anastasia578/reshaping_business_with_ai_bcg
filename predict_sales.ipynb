{
 "cells": [
  {
   "cell_type": "code",
   "execution_count": null,
   "metadata": {},
   "outputs": [],
   "source": [
    "import pandas as pd\n",
    "import matplotlib.pyplot as plt\n",
    "import importlib\n",
    "\n",
    "import load_data"
   ]
  },
  {
   "cell_type": "code",
   "execution_count": null,
   "metadata": {},
   "outputs": [],
   "source": [
    "importlib.reload(load_data)"
   ]
  },
  {
   "cell_type": "code",
   "execution_count": null,
   "metadata": {},
   "outputs": [],
   "source": [
    "df = load_data.read_and_process_parquet()"
   ]
  },
  {
   "cell_type": "code",
   "execution_count": null,
   "metadata": {},
   "outputs": [],
   "source": [
    "file_path = \"data/transactions_dataset_reduced.parquet\"\n",
    "\n",
    "df = pd.read_parquet(file_path)\n",
    "df['date_order'] = pd.to_datetime(df['date_order'])\n",
    "df['date_invoice'] = pd.to_datetime(df['date_invoice'])"
   ]
  },
  {
   "cell_type": "code",
   "execution_count": null,
   "metadata": {},
   "outputs": [],
   "source": [
    "df.info()"
   ]
  },
  {
   "cell_type": "code",
   "execution_count": null,
   "metadata": {},
   "outputs": [],
   "source": [
    "# Group the data by 'date_order' and 'client_id', and calculate the sum of sales for each group\n",
    "sales_sum_df = df.groupby(['date_order', 'client_id'])['sales_net'].sum().reset_index()"
   ]
  },
  {
   "cell_type": "code",
   "execution_count": null,
   "metadata": {},
   "outputs": [],
   "source": [
    "sales_sum_df.head()"
   ]
  },
  {
   "cell_type": "code",
   "execution_count": null,
   "metadata": {},
   "outputs": [],
   "source": [
    "df_features = pd.DataFrame(columns=[\"client_id\", \"1_month_diff\", \"3_month_diff\", \"6_month_diff\"])"
   ]
  },
  {
   "cell_type": "code",
   "execution_count": null,
   "metadata": {},
   "outputs": [],
   "source": [
    "df_features"
   ]
  },
  {
   "cell_type": "code",
   "execution_count": null,
   "metadata": {},
   "outputs": [],
   "source": [
    "client_ids = sales_sum_df.client_id.unique()\n",
    "for client_id in client_ids:\n",
    "    client_data = sales_sum_df[sales_sum_df['client_id'] == client_id]\n",
    "    # Sort the data by date_order\n",
    "    client_data = client_data.sort_values('date_order')\n",
    "    client_data.drop(columns=['client_id'], inplace=True)\n",
    "    client_data.set_index('date_order', inplace=True)\n",
    "\n",
    "    monthly_sales_sum = client_data.resample('M').sum()\n",
    "    monthly_diff = monthly_sales_sum['sales_net'].diff()\n",
    "\n",
    "    monthly_sales_sum_3 = client_data.resample('3M').sum()\n",
    "    monthly_diff_3 = monthly_sales_sum_3['sales_net'].diff()\n",
    "\n",
    "    monthly_sales_sum_6 = client_data.resample('6M').sum()\n",
    "    monthly_diff_6 = monthly_sales_sum_6['sales_net'].diff()\n",
    "\n",
    "    # Add a new row to df_features\n",
    "    df_features.loc[len(df_features)] = [client_id, monthly_diff.iloc[-1], monthly_diff_3.iloc[-1], monthly_diff_6.iloc[-1]]\n",
    "\n",
    "    print(f\"client: {client_id}, diff: {monthly_diff.iloc[-1]}\")\n"
   ]
  },
  {
   "cell_type": "code",
   "execution_count": null,
   "metadata": {},
   "outputs": [],
   "source": [
    "df_features.tail(200)"
   ]
  },
  {
   "cell_type": "code",
   "execution_count": null,
   "metadata": {},
   "outputs": [],
   "source": [
    "df_features.reset_index(inplace=True, drop=True)"
   ]
  },
  {
   "cell_type": "code",
   "execution_count": null,
   "metadata": {},
   "outputs": [],
   "source": [
    "df_features"
   ]
  },
  {
   "cell_type": "code",
   "execution_count": null,
   "metadata": {},
   "outputs": [],
   "source": [
    "client_id = 1863925\n",
    "client_data = sales_sum_df[sales_sum_df['client_id'] == client_id]\n",
    "# Sort the data by date_order\n",
    "client_data = client_data.sort_values('date_order')"
   ]
  },
  {
   "cell_type": "code",
   "execution_count": null,
   "metadata": {},
   "outputs": [],
   "source": [
    "sales_sum_df[sales_sum_df['client_id'] == 1585335]"
   ]
  },
  {
   "cell_type": "code",
   "execution_count": null,
   "metadata": {},
   "outputs": [],
   "source": [
    "client_data.drop(columns=['client_id'], inplace=True)"
   ]
  },
  {
   "cell_type": "code",
   "execution_count": null,
   "metadata": {},
   "outputs": [],
   "source": [
    "trend = client_data.set_index('date_order')['sales_net'].diff().dropna()"
   ]
  },
  {
   "cell_type": "code",
   "execution_count": null,
   "metadata": {},
   "outputs": [],
   "source": [
    "# Step 2: Check for a consistent decreasing trend\n",
    "is_decreasing = trend.mean() < 0"
   ]
  },
  {
   "cell_type": "code",
   "execution_count": null,
   "metadata": {},
   "outputs": [],
   "source": [
    "trend.mean()"
   ]
  },
  {
   "cell_type": "code",
   "execution_count": null,
   "metadata": {},
   "outputs": [],
   "source": [
    "is_decreasing"
   ]
  },
  {
   "cell_type": "code",
   "execution_count": null,
   "metadata": {},
   "outputs": [],
   "source": [
    "# Plot sales_net over time\n",
    "plt.figure(figsize=(8, 4))\n",
    "plt.plot(client_data['date_order'], client_data['sales_net'], linestyle='-')\n",
    "plt.xlabel('Date')\n",
    "plt.ylabel('Sales Net')\n",
    "plt.title(f'Sales Net Over Time for Client {client_id}')\n",
    "plt.xticks(rotation=45)  # Rotate x-axis labels for better readability\n",
    "plt.grid(True)\n",
    "plt.tight_layout()\n",
    "plt.show()"
   ]
  },
  {
   "cell_type": "code",
   "execution_count": null,
   "metadata": {},
   "outputs": [],
   "source": [
    "client_data.info()"
   ]
  },
  {
   "cell_type": "code",
   "execution_count": null,
   "metadata": {},
   "outputs": [],
   "source": [
    "# Step 2: Set date_order as the index\n",
    "df = client_data.copy()\n",
    "\n",
    "# Step 2: Set date_order as the index\n",
    "df.set_index('date_order', inplace=True)"
   ]
  },
  {
   "cell_type": "code",
   "execution_count": null,
   "metadata": {},
   "outputs": [],
   "source": [
    "df.head()"
   ]
  },
  {
   "cell_type": "code",
   "execution_count": null,
   "metadata": {},
   "outputs": [],
   "source": [
    "# Resample the DataFrame to monthly frequency and calculate the sum\n",
    "monthly_sales_sum = df.resample('M').sum()"
   ]
  },
  {
   "cell_type": "code",
   "execution_count": null,
   "metadata": {},
   "outputs": [],
   "source": [
    "monthly_sales_sum.tail()"
   ]
  },
  {
   "cell_type": "code",
   "execution_count": null,
   "metadata": {},
   "outputs": [],
   "source": [
    "plt.figure(figsize=(6, 4))\n",
    "plt.plot(monthly_sales_sum.index, monthly_sales_sum['sales_net'], marker='o', linestyle='-')\n",
    "plt.title('Monthly Sales Net over Time')\n",
    "plt.xlabel('Date')\n",
    "plt.ylabel('Sales Net')\n",
    "plt.grid(True)\n",
    "plt.xticks(rotation=45)\n",
    "plt.tight_layout()\n",
    "plt.show()"
   ]
  },
  {
   "cell_type": "code",
   "execution_count": null,
   "metadata": {},
   "outputs": [],
   "source": [
    "monthly_diff = monthly_sales_sum['sales_net'].diff()"
   ]
  },
  {
   "cell_type": "code",
   "execution_count": null,
   "metadata": {},
   "outputs": [],
   "source": [
    "monthly_diff.tail()"
   ]
  },
  {
   "cell_type": "code",
   "execution_count": null,
   "metadata": {},
   "outputs": [],
   "source": [
    "# Plot the difference in monthly sales net\n",
    "# Plot percentages\n",
    "monthly_diff.plot(figsize=(6, 4), marker='o', linestyle='-')\n",
    "plt.title('Difference in Monthly Sales Net')\n",
    "plt.xlabel('Date')\n",
    "plt.ylabel('Difference in Sales Net')\n",
    "plt.grid(True)\n",
    "plt.show()"
   ]
  },
  {
   "cell_type": "code",
   "execution_count": null,
   "metadata": {},
   "outputs": [],
   "source": []
  },
  {
   "cell_type": "code",
   "execution_count": null,
   "metadata": {},
   "outputs": [],
   "source": [
    "# Step 3: Calculate rolling sum of sales_net over different time periods\n",
    "rolling_sum_1m = df['sales_net'].rolling('30D').sum()\n",
    "rolling_sum_3m = df['sales_net'].rolling('90D').sum()\n",
    "rolling_sum_6m = df['sales_net'].rolling('180D').sum()"
   ]
  },
  {
   "cell_type": "code",
   "execution_count": null,
   "metadata": {},
   "outputs": [],
   "source": [
    "rolling_sum_1m"
   ]
  },
  {
   "cell_type": "code",
   "execution_count": null,
   "metadata": {},
   "outputs": [],
   "source": [
    "# Step 4: Calculate the change over each time period\n",
    "change_1m = rolling_sum_1m.diff()\n",
    "change_3m = rolling_sum_3m.diff()\n",
    "change_6m = rolling_sum_6m.diff()"
   ]
  },
  {
   "cell_type": "code",
   "execution_count": null,
   "metadata": {},
   "outputs": [],
   "source": [
    "change_1m"
   ]
  },
  {
   "cell_type": "code",
   "execution_count": null,
   "metadata": {},
   "outputs": [],
   "source": [
    "change_1m.iloc[-1]"
   ]
  },
  {
   "cell_type": "code",
   "execution_count": null,
   "metadata": {},
   "outputs": [],
   "source": [
    "change_3m.iloc[-1]"
   ]
  },
  {
   "cell_type": "code",
   "execution_count": null,
   "metadata": {},
   "outputs": [],
   "source": [
    "change_6m.iloc[-1]"
   ]
  },
  {
   "cell_type": "code",
   "execution_count": null,
   "metadata": {},
   "outputs": [],
   "source": [
    "change_1m"
   ]
  },
  {
   "cell_type": "code",
   "execution_count": null,
   "metadata": {},
   "outputs": [],
   "source": [
    "# Step 5: Check if the change over the last period is negative\n",
    "is_decreasing = change_1m.iloc[-1] < 0 or change_3m.iloc[-1] < 0 or change_6m.iloc[-1] < 0\n",
    "\n",
    "# Step 6: Determine if the client is at risk for churn\n",
    "if is_decreasing:\n",
    "    print(\"Client is at risk for churn\")\n",
    "else:\n",
    "    print(\"Client is not at risk for churn\")"
   ]
  },
  {
   "cell_type": "code",
   "execution_count": null,
   "metadata": {},
   "outputs": [],
   "source": [
    "df.head()"
   ]
  },
  {
   "cell_type": "code",
   "execution_count": null,
   "metadata": {},
   "outputs": [],
   "source": [
    "import pandas as pd\n",
    "import matplotlib.pyplot as plt\n",
    "\n",
    "# Assuming df is your DataFrame containing the data\n",
    "\n",
    "# Group the data by client_id and calculate the total sales_net for each client\n",
    "client_sales = df.groupby('client_id')['sales_net'].sum()\n",
    "\n",
    "# Identify the three clients with the highest total sales_net\n",
    "top_clients = client_sales.nlargest(3)\n",
    "\n",
    "# Identify the three clients with the lowest total sales_net\n",
    "bottom_clients = client_sales.nsmallest(3)\n",
    "\n",
    "# Plot sales_net over time for each of the top clients\n",
    "for client_id in top_clients.index:\n",
    "    client_data = df[df['client_id'] == client_id]\n",
    "    client_data = client_data.sort_values('date_order')  # Sort by date_order\n",
    "    plt.figure()  # Create a new figure for each client\n",
    "    plt.plot(client_data['date_order'], client_data['sales_net'])\n",
    "    plt.xlabel('Date')\n",
    "    plt.ylabel('Sales Net')\n",
    "    plt.title(f'Sales Net Over Time for Client {client_id}')\n",
    "\n",
    "# Plot sales_net over time for each of the bottom clients\n",
    "for client_id in bottom_clients.index:\n",
    "    client_data = df[df['client_id'] == client_id]\n",
    "    client_data = client_data.sort_values('date_order')  # Sort by date_order\n",
    "    plt.figure()  # Create a new figure for each client\n",
    "    plt.plot(client_data['date_order'], client_data['sales_net'])\n",
    "    plt.xlabel('Date')\n",
    "    plt.ylabel('Sales Net')\n",
    "    plt.title(f'Sales Net Over Time for Client {client_id}')\n",
    "\n",
    "plt.show()"
   ]
  },
  {
   "cell_type": "code",
   "execution_count": null,
   "metadata": {},
   "outputs": [],
   "source": []
  }
 ],
 "metadata": {
  "kernelspec": {
   "display_name": "base",
   "language": "python",
   "name": "python3"
  },
  "language_info": {
   "codemirror_mode": {
    "name": "ipython",
    "version": 3
   },
   "file_extension": ".py",
   "mimetype": "text/x-python",
   "name": "python",
   "nbconvert_exporter": "python",
   "pygments_lexer": "ipython3",
   "version": "3.11.5"
  }
 },
 "nbformat": 4,
 "nbformat_minor": 2
}
